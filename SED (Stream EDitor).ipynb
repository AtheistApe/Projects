{
 "cells": [
  {
   "cell_type": "markdown",
   "metadata": {},
   "source": [
    "# The 'sed' s (substitute) command\n",
    "\n",
    "syntax: sed 's/old/new' file\n",
    "\n",
    "where:\n",
    "* 'sed' invokes the sed program\n",
    "* 's' is to substitute the 'old' text for the 'new' text in the file 'file'"
   ]
  },
  {
   "cell_type": "code",
   "execution_count": 11,
   "metadata": {
    "collapsed": false
   },
   "outputs": [
    {
     "name": "stdout",
     "output_type": "stream",
     "text": [
      "The grand old Duke of York\r\n",
      "He had ten thousand men\r\n",
      "He marched them up to the top of the hill\r\n",
      "And he marched them down again\r\n",
      "And when they were up they were up\r\n",
      "And when they were down they were down\r\n",
      "And when they were only half-way up\r\n",
      "They were neither up nor down\r\n",
      "\r\n",
      "\r\n",
      "The grand old Duke of York\r\n",
      "He had ten thousand men\r\n",
      "He marched THEm up to the top of the hill\r\n",
      "And he marched THEm down again\r\n",
      "And when THEy were up they were up\r\n",
      "And when THEy were down they were down\r\n",
      "And when THEy were only half-way up\r\n",
      "They were neiTHEr up nor down\r\n",
      "\r\n",
      "\r\n",
      "The grand old Duke of York\r\n",
      "He had ten thousand men\r\n",
      "He marched them up to the top of the hill\r\n",
      "And he marched them down again\r\n",
      "And when they were up they were up\r\n",
      "And when they were down they were down\r\n",
      "And when they were only half-way up\r\n",
      "They were neither up nor down\r\n"
     ]
    }
   ],
   "source": [
    "# Example\n",
    "\n",
    "cat dukeofyork.txt\n",
    "printf \"\\n\\n\"\n",
    "sed 's/the/THE/' dukeofyork.txt  # Substitutes 'the' for 'THE' in file 'dukeofyork.txt'\n",
    "\n",
    "# The command only replaces the first occurance of 'the' in each line with 'THE'\n",
    "\n",
    "# Note that the original file 'dukeofyork.txt' is unmodified\n",
    "printf \"\\n\\n\"\n",
    "cat dukeofyork.txt"
   ]
  },
  {
   "cell_type": "code",
   "execution_count": 14,
   "metadata": {
    "collapsed": false
   },
   "outputs": [
    {
     "name": "stdout",
     "output_type": "stream",
     "text": [
      "The grand old Duke of York\r\n",
      "He had ten thousand men\r\n",
      "He marched THEm up to the top of the hill\r\n",
      "And he marched THEm down again\r\n",
      "And when THEy were up they were up\r\n",
      "And when THEy were down they were down\r\n",
      "And when THEy were only half-way up\r\n",
      "They were neiTHEr up nor down\r\n",
      "\r\n",
      "\r\n",
      "array.c  dukeofyork.txt  modified_dukeofyork.txt  sed_s_command\r\n"
     ]
    }
   ],
   "source": [
    "# To save the new modified file, we can redirect the output to a new file:\n",
    "\n",
    "sed 's/the/THE/' dukeofyork.txt > modified_dukeofyork.txt\n",
    "cat modified_dukeofyork.txt\n",
    "printf \"\\n\\n\"\n",
    "ls"
   ]
  },
  {
   "cell_type": "code",
   "execution_count": 15,
   "metadata": {
    "collapsed": false
   },
   "outputs": [
    {
     "name": "stdout",
     "output_type": "stream",
     "text": [
      "The grand old Duke of York\r\n",
      "He had ten thousand men\r\n",
      "He marched THEm up to the top of the hill\r\n",
      "And he marched THEm down again\r\n",
      "And when THEy were up they were up\r\n",
      "And when THEy were down they were down\r\n",
      "And when THEy were only half-way up\r\n",
      "They were neiTHEr up nor down\r\n",
      "/* array.c -- read, reverse, and write an array of integers */\r\n",
      "\r\n",
      "#include <stdio.h>\r\n",
      "\r\n",
      "#define MAX 10\r\n",
      "\r\n",
      "void intSwap(int *x, int *y);\r\n",
      "int getArray(int a[], int max, int terminator);\r\n",
      "void printArray(int a[], int n);\r\n",
      "void reverseArray(int a[], int n);\r\n",
      "\r\n",
      "int main(void)\r\n",
      "{\r\n",
      "\tint x[MAX];\r\n",
      "\tint howMany;\r\n",
      "\r\n",
      "\thowMany = getArray(x, MAX, -1);\r\n",
      "\tprintf(\"Read THE following array:\\n\");\r\n",
      "\tprintArray(x, howMany);\r\n",
      "\treverseArray(x, howMany);\r\n",
      "\tprintf(\"After being reversed:\\n\");\r\n",
      "\tprintArray(x, howMany);\r\n",
      "}\r\n",
      "\r\n",
      "/* swap THE contents of x and y */\r\n",
      "void intSwap(int *x, int *y)\r\n",
      "{\r\n",
      "\tint tmp = *x;\r\n",
      "\t*x = *y;\r\n",
      "\t*y = tmp;\r\n",
      "}\r\n",
      "\r\n",
      "/* print THE first n elements in the array a */\r\n",
      "void printArray(int a[], int n)\r\n",
      "{\r\n",
      "\tint i;\r\n",
      "\r\n",
      "\tfor ( i=0; i<n; i++ ) {\r\n",
      "\t\tprintf(\"\\t%d\\n\", a[i]);\r\n",
      "\t}\r\n",
      "}\r\n",
      "\r\n",
      "/* get up to max integers from THE user and store them in a; \r\n",
      " * terminator marks end of input */\r\n",
      "int getArray(int a[], int max, int terminator)\r\n",
      "{\r\n",
      "\tint n = 0;\r\n",
      "\tint tmp;\r\n",
      "\r\n",
      "\tdo {\r\n",
      "\t\tprintf(\"Enter integer [%d to terminate] : \", terminator);\r\n",
      "\t\tscanf(\"%d\", &tmp);\r\n",
      "\t\tif ( tmp==terminator ) {\r\n",
      "\t\t\tbreak;\r\n",
      "\t\t} \r\n",
      "\t\tif ( n>=max ) {\r\n",
      "\t\t\tprintf(\"Sorry, array is full\\n\");\r\n",
      "\t\t\treturn n;\r\n",
      "\t\t} else { \r\n",
      "\t\t\ta[n++] = tmp;\r\n",
      "\t\t}\r\n",
      "\t} while ( 1 );\r\n",
      "\treturn n;\r\n",
      "}\r\n",
      "\r\n",
      "/* reverse THE order of the first n elements of a */\r\n",
      "void reverseArray(int a[], int n)\r\n",
      "{\r\n",
      "\tint i;\r\n",
      "\r\n",
      "\tfor ( i=0; i<n/2; i++ ) {\r\n",
      "\t\tintSwap(&a[i], &a[n-i-1]);\r\n",
      "\t}\r\n",
      "}\r\n"
     ]
    }
   ],
   "source": [
    "# Can specify more than one file to be modified:\n",
    "\n",
    "sed 's/the/THE/' dukeofyork.txt array.c"
   ]
  },
  {
   "cell_type": "code",
   "execution_count": 18,
   "metadata": {
    "collapsed": false
   },
   "outputs": [
    {
     "name": "stdout",
     "output_type": "stream",
     "text": [
      "\r\n"
     ]
    }
   ],
   "source": [
    "# If we omit a file argument, the changes are applied to standard input (use Ctrl-d to exit)\n",
    "# This doesn't seem to work in this Jupyter notebook\n",
    "\n",
    "sed 's/the/THE/'"
   ]
  },
  {
   "cell_type": "code",
   "execution_count": 19,
   "metadata": {
    "collapsed": false
   },
   "outputs": [
    {
     "name": "stdout",
     "output_type": "stream",
     "text": [
      "     1\tThe grand old Duke of York\r\n",
      "     2\tHe had ten thousand men\r\n",
      "     3\tHe marched THEm up to the top of the hill\r\n",
      "     4\tAnd he marched THEm down again\r\n",
      "     5\tAnd when THEy were up they were up\r\n",
      "     6\tAnd when THEy were down they were down\r\n",
      "     7\tAnd when THEy were only half-way up\r\n",
      "     8\tThey were neiTHEr up nor down\r\n"
     ]
    }
   ],
   "source": [
    "# We can use sed without a file argument as the reciever of another bash command ('nl'\n",
    "# numbers lines of it's input file):\n",
    "\n",
    "nl dukeofyork.txt | sed 's/the/THE/'"
   ]
  },
  {
   "cell_type": "code",
   "execution_count": 22,
   "metadata": {
    "collapsed": false
   },
   "outputs": [
    {
     "name": "stdout",
     "output_type": "stream",
     "text": [
      "The grand old Duke of York\r\n",
      "He had ten thousand men\r\n",
      "He marched THEm up to the top of the hill\r\n",
      "And he marched THEm down again\r\n",
      "And when THEy were up they were up\r\n",
      "And when THEy were down they were down\r\n",
      "And when THEy were only half-way up\r\n",
      "They were neiTHEr up nor down\r\n",
      "\r\n",
      "\r\n",
      "array.c  dukeofyork.txt  modified_dukeofyork.txt  output.txt  sed_s_command\r\n"
     ]
    }
   ],
   "source": [
    "# sed can also take input using '<', then redirect its output using '>'\n",
    "sed 's/the/THE/' < dukeofyork.txt > output.txt\n",
    "cat output.txt\n",
    "printf \"\\n\\n\"\n",
    "ls"
   ]
  },
  {
   "cell_type": "code",
   "execution_count": 23,
   "metadata": {
    "collapsed": false
   },
   "outputs": [
    {
     "name": "stdout",
     "output_type": "stream",
     "text": [
      "The grand old Duke of York\r\n",
      "He had ten thousand men\r\n",
      "He marched them up to the top of the hill\r\n",
      "And he marched them down again\r\n",
      "And when they \"$weren't\" up they were up\r\n",
      "And when they \"$weren't\" down they were down\r\n",
      "And when they \"$weren't\" only half-way up\r\n",
      "They \"$weren't\" neither up nor down\r\n"
     ]
    }
   ],
   "source": [
    "# Can issue the sed command without quotes (sed s/the/THE/) but this wouldn't work\n",
    "# if there were spaces within the original or substituted text; It's best to ALWAYS\n",
    "# quote the command. If the original or replacement text contains spaces or other\n",
    "# system special symbols (like '$'), use double quotes to enclose the command and\n",
    "# escape special symbols using '\\'\n",
    "\n",
    "# This example substitutes 'were' with '$were'nt'\n",
    "\n",
    "sed \"s/were/\\\"\\$weren\\'t\\\"/\" dukeofyork.txt"
   ]
  },
  {
   "cell_type": "code",
   "execution_count": 24,
   "metadata": {
    "collapsed": false
   },
   "outputs": [
    {
     "name": "stdout",
     "output_type": "stream",
     "text": [
      "The grand old Duke of York\r\n",
      "He had ten thousand men\r\n",
      "He marched THEm up to THE top of THE hill\r\n",
      "And he marched THEm down again\r\n",
      "And when THEy were up THEy were up\r\n",
      "And when THEy were down THEy were down\r\n",
      "And when THEy were only half-way up\r\n",
      "They were neiTHEr up nor down\r\n"
     ]
    }
   ],
   "source": [
    "# To substitute out every occurance of the original text in a line (and not just the first\n",
    "# occurance), use the 'g' modifier at the end of the command\n",
    "\n",
    "sed 's/the/THE/g' dukeofyork.txt"
   ]
  },
  {
   "cell_type": "code",
   "execution_count": 42,
   "metadata": {
    "collapsed": false
   },
   "outputs": [
    {
     "name": "stdout",
     "output_type": "stream",
     "text": [
      "---b---b---\r\n"
     ]
    }
   ],
   "source": [
    "# The 'g' modifier substitutes out non-overlapping occurances of the original string.\n",
    "# For example\n",
    "\n",
    "echo \"abababababa\" > temp\n",
    "sed 's/aba/---/g' temp\n",
    "rm temp"
   ]
  },
  {
   "cell_type": "code",
   "execution_count": 43,
   "metadata": {
    "collapsed": false
   },
   "outputs": [
    {
     "name": "stdout",
     "output_type": "stream",
     "text": [
      "one and two and three and four and five AND six and seven\r\n"
     ]
    }
   ],
   "source": [
    "# Using a number 'n' in place of the 'g' modifier will cause the nth occurance of the 'old'\n",
    "# string to be replaced by the 'new' string.\n",
    "\n",
    "# Example\n",
    "\n",
    "echo \"one and two and three and four and five and six and seven\" > temp\n",
    "sed 's/and/AND/5' temp\n",
    "rm temp"
   ]
  },
  {
   "cell_type": "code",
   "execution_count": 44,
   "metadata": {
    "collapsed": false
   },
   "outputs": [
    {
     "name": "stdout",
     "output_type": "stream",
     "text": [
      "The grAND old Duke of York\r\n",
      "He had ten thousAND men\r\n",
      "He marched them up to the top of the hill\r\n",
      "And he marched them down again\r\n",
      "And when they were up they were up\r\n",
      "And when they were down they were down\r\n",
      "And when they were only half-way up\r\n",
      "They were neither up nor down\r\n"
     ]
    }
   ],
   "source": [
    "# You don't have to use the '/' as a separator in the sed command as long as all\n",
    "# the separator characters are the same.\n",
    "\n",
    "# Example\n",
    "\n",
    "sed 's?and?AND?' dukeofyork.txt"
   ]
  },
  {
   "cell_type": "code",
   "execution_count": null,
   "metadata": {
    "collapsed": true
   },
   "outputs": [],
   "source": []
  },
  {
   "cell_type": "code",
   "execution_count": null,
   "metadata": {
    "collapsed": true
   },
   "outputs": [],
   "source": []
  },
  {
   "cell_type": "code",
   "execution_count": 30,
   "metadata": {
    "collapsed": false
   },
   "outputs": [
    {
     "name": "stdout",
     "output_type": "stream",
     "text": [
      "Gary: command not found\r\n"
     ]
    }
   ],
   "source": [
    "Gary"
   ]
  },
  {
   "cell_type": "code",
   "execution_count": null,
   "metadata": {
    "collapsed": true
   },
   "outputs": [],
   "source": []
  }
 ],
 "metadata": {},
 "nbformat": 4,
 "nbformat_minor": 1
}
